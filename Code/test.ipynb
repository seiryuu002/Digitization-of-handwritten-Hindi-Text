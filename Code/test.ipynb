{
 "cells": [
  {
   "cell_type": "code",
   "execution_count": 6,
   "metadata": {},
   "outputs": [
    {
     "data": {
      "text/plain": [
       "False"
      ]
     },
     "execution_count": 6,
     "metadata": {},
     "output_type": "execute_result"
    }
   ],
   "source": [
    "import asrtoolkit\n",
    "from asrtoolkit import wer, cer\n",
    "import cv2\n",
    "import io\n",
    "from fuzzywuzzy import fuzz, process\n",
    "import numpy as np\n",
    "from PIL import Image\n",
    "import pytesseract\n",
    "import sys\n",
    "from skimage import io as ioski\n",
    "from skimage.color import rgb2gray\n",
    "from skimage.transform import rotate, resize\n",
    "import os\n",
    "from google.cloud import vision_v1\n",
    "from google.cloud.vision_v1 import types\n",
    "from dotenv import load_dotenv, find_dotenv\n",
    "load_dotenv()"
   ]
  },
  {
   "cell_type": "code",
   "execution_count": 7,
   "metadata": {},
   "outputs": [],
   "source": [
    "credential_path = 'F:\\\\Lecture notes\\\\Sem-8\\\\MP(8)\\\\Code\\\\dizitizationofhinditext-4073208d099d.json'\n",
    "os.environ['GOOGLE_APPLICATION_CREDENTIALS'] = credential_path"
   ]
  },
  {
   "cell_type": "code",
   "execution_count": 8,
   "metadata": {},
   "outputs": [],
   "source": [
    "client = vision_v1.ImageAnnotatorClient()"
   ]
  },
  {
   "cell_type": "code",
   "execution_count": 9,
   "metadata": {},
   "outputs": [
    {
     "name": "stdout",
     "output_type": "stream",
     "text": [
      "क\n",
      "म\n",
      "जल\n"
     ]
    }
   ],
   "source": [
    "with io.open(\"F:\\Lecture notes\\Sem-8\\MP(8)\\Resources\\letters.jpeg\", 'rb') as image_file:\n",
    "    content = image_file.read()\n",
    "\n",
    "image_v = vision_v1.types.Image(content=content)\n",
    "response = client.document_text_detection(image=image_v)\n",
    "docText = response.full_text_annotation.text\n",
    "hypothesis5 = docText\n",
    "print(hypothesis5)"
   ]
  },
  {
   "cell_type": "code",
   "execution_count": null,
   "metadata": {},
   "outputs": [],
   "source": []
  }
 ],
 "metadata": {
  "kernelspec": {
   "display_name": "Python 3",
   "language": "python",
   "name": "python3"
  },
  "language_info": {
   "codemirror_mode": {
    "name": "ipython",
    "version": 3
   },
   "file_extension": ".py",
   "mimetype": "text/x-python",
   "name": "python",
   "nbconvert_exporter": "python",
   "pygments_lexer": "ipython3",
   "version": "3.9.0"
  }
 },
 "nbformat": 4,
 "nbformat_minor": 2
}
