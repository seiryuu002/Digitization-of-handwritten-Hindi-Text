{
 "cells": [
  {
   "cell_type": "code",
   "execution_count": 2,
   "metadata": {},
   "outputs": [
    {
     "data": {
      "text/plain": [
       "False"
      ]
     },
     "execution_count": 2,
     "metadata": {},
     "output_type": "execute_result"
    }
   ],
   "source": [
    "import asrtoolkit\n",
    "from asrtoolkit import wer, cer\n",
    "import cv2\n",
    "import io\n",
    "from fuzzywuzzy import fuzz, process\n",
    "import numpy as np\n",
    "from PIL import Image\n",
    "import pytesseract\n",
    "import sys\n",
    "from skimage import io as ioski\n",
    "from skimage.color import rgb2gray\n",
    "from skimage.transform import rotate, resize\n",
    "import os\n",
    "from google.cloud import vision_v1\n",
    "from google.cloud.vision_v1 import types\n",
    "from dotenv import load_dotenv, find_dotenv\n",
    "load_dotenv()"
   ]
  },
  {
   "cell_type": "code",
   "execution_count": 3,
   "metadata": {},
   "outputs": [],
   "source": [
    "credential_path = 'F:\\\\Lecture notes\\\\Sem-8\\\\MP(8)\\\\Code\\\\dizitizationofhinditext-4073208d099d.json'\n",
    "os.environ['GOOGLE_APPLICATION_CREDENTIALS'] = credential_path"
   ]
  },
  {
   "cell_type": "code",
   "execution_count": 4,
   "metadata": {},
   "outputs": [],
   "source": [
    "client = vision_v1.ImageAnnotatorClient()"
   ]
  },
  {
   "cell_type": "code",
   "execution_count": 7,
   "metadata": {},
   "outputs": [
    {
     "name": "stdout",
     "output_type": "stream",
     "text": [
      "This Directory f:\\Lecture notes\\Sem-8\\MP(8)\\Code\n",
      "f:\\Lecture notes\\Sem-8\\MP(8)\n",
      "f:\\Lecture notes\\Sem-8\n",
      "f:\\Lecture notes\\Sem-8\\MP(8)\n",
      "My_hand_Trained_data None\n"
     ]
    }
   ],
   "source": [
    "dirpath = os.getcwd()  # os abosulute current directory path\n",
    "print(\"This Directory\", dirpath)\n",
    "parentDirectory = os.path.dirname(dirpath)\n",
    "print(parentDirectory)\n",
    "GrandparentDirectory = os.path.dirname(parentDirectory)\n",
    "print(GrandparentDirectory)\n",
    "# bsolutepath = os.path.abspath(__file__) #os abosulute current file path\n",
    "# print(bsolutepath)\n",
    "print(os.path.abspath(os.path.join(os.getcwd(), '..')))\n",
    "out_path_myhand = os.getenv(\"LOCAL_PATH\")\n",
    "print(\"My_hand_Trained_data\", out_path_myhand)\n",
    "# out_path_StorySquad = os.path.abspath(os.path.join(os.getenv(\"LOCAL_PATH\"), \"..\", \"..\"))\n",
    "# print(out_path_StorySquad)\n"
   ]
  },
  {
   "cell_type": "code",
   "execution_count": null,
   "metadata": {},
   "outputs": [],
   "source": []
  },
  {
   "cell_type": "code",
   "execution_count": null,
   "metadata": {},
   "outputs": [],
   "source": []
  }
 ],
 "metadata": {
  "kernelspec": {
   "display_name": "Python 3",
   "language": "python",
   "name": "python3"
  },
  "language_info": {
   "codemirror_mode": {
    "name": "ipython",
    "version": 3
   },
   "file_extension": ".py",
   "mimetype": "text/x-python",
   "name": "python",
   "nbconvert_exporter": "python",
   "pygments_lexer": "ipython3",
   "version": "3.8.5"
  }
 },
 "nbformat": 4,
 "nbformat_minor": 2
}
